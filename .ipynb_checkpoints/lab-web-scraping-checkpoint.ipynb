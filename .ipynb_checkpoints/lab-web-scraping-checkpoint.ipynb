{
 "cells": [
  {
   "cell_type": "markdown",
   "id": "7e7a1ab8-2599-417d-9a65-25ef07f3a786",
   "metadata": {
    "id": "7e7a1ab8-2599-417d-9a65-25ef07f3a786"
   },
   "source": [
    "# Lab | Web Scraping"
   ]
  },
  {
   "cell_type": "markdown",
   "id": "ce8882fc-4815-4567-92fa-b4816358ba7d",
   "metadata": {
    "id": "ce8882fc-4815-4567-92fa-b4816358ba7d"
   },
   "source": [
    "Welcome to the \"Books to Scrape\" Web Scraping Adventure Lab!\n",
    "\n",
    "**Objective**\n",
    "\n",
    "In this lab, we will embark on a mission to unearth valuable insights from the data available on Books to Scrape, an online platform showcasing a wide variety of books. As data analyst, you have been tasked with scraping a specific subset of book data from Books to Scrape to assist publishing companies in understanding the landscape of highly-rated books across different genres. Your insights will help shape future book marketing strategies and publishing decisions.\n",
    "\n",
    "**Background**\n",
    "\n",
    "In a world where data has become the new currency, businesses are leveraging big data to make informed decisions that drive success and profitability. The publishing industry, much like others, utilizes data analytics to understand market trends, reader preferences, and the performance of books based on factors such as genre, author, and ratings. Books to Scrape serves as a rich source of such data, offering detailed information about a diverse range of books, making it an ideal platform for extracting insights to aid in informed decision-making within the literary world.\n",
    "\n",
    "**Task**\n",
    "\n",
    "Your task is to create a Python script using BeautifulSoup and pandas to scrape Books to Scrape book data, focusing on book ratings and genres. The script should be able to filter books with ratings above a certain threshold and in specific genres. Additionally, the script should structure the scraped data in a tabular format using pandas for further analysis.\n",
    "\n",
    "**Expected Outcome**\n",
    "\n",
    "A function named `scrape_books` that takes two parameters: `min_rating` and `max_price`. The function should scrape book data from the \"Books to Scrape\" website and return a `pandas` DataFrame with the following columns:\n",
    "\n",
    "**Expected Outcome**\n",
    "\n",
    "- A function named `scrape_books` that takes two parameters: `min_rating` and `max_price`.\n",
    "- The function should return a DataFrame with the following columns:\n",
    "  - **UPC**: The Universal Product Code (UPC) of the book.\n",
    "  - **Title**: The title of the book.\n",
    "  - **Price (£)**: The price of the book in pounds.\n",
    "  - **Rating**: The rating of the book (1-5 stars).\n",
    "  - **Genre**: The genre of the book.\n",
    "  - **Availability**: Whether the book is in stock or not.\n",
    "  - **Description**: A brief description or product description of the book (if available).\n",
    "  \n",
    "You will execute this script to scrape data for books with a minimum rating of `4.0 and above` and a maximum price of `£20`. \n",
    "\n",
    "Remember to experiment with different ratings and prices to ensure your code is versatile and can handle various searches effectively!\n",
    "\n",
    "**Resources**\n",
    "\n",
    "- [Beautiful Soup Documentation](https://www.crummy.com/software/BeautifulSoup/bs4/doc/)\n",
    "- [Pandas Documentation](https://pandas.pydata.org/pandas-docs/stable/index.html)\n",
    "- [Books to Scrape](https://books.toscrape.com/)\n"
   ]
  },
  {
   "cell_type": "markdown",
   "id": "3519921d-5890-445b-9a33-934ed8ee378c",
   "metadata": {
    "id": "3519921d-5890-445b-9a33-934ed8ee378c"
   },
   "source": [
    "**Hint**\n",
    "\n",
    "Your first mission is to familiarize yourself with the **Books to Scrape** website. Navigate to [Books to Scrape](http://books.toscrape.com/) and explore the available books to understand their layout and structure. \n",
    "\n",
    "Next, think about how you can set parameters for your data extraction:\n",
    "\n",
    "- **Minimum Rating**: Focus on books with a rating of 4.0 and above.\n",
    "- **Maximum Price**: Filter for books priced up to £20.\n",
    "\n",
    "After reviewing the site, you can construct a plan for scraping relevant data. Pay attention to the details displayed for each book, including the title, price, rating, and availability. This will help you identify the correct HTML elements to target with your scraping script.\n",
    "\n",
    "Make sure to build your scraping URL and logic based on the patterns you observe in the HTML structure of the book listings!"
   ]
  },
  {
   "cell_type": "markdown",
   "id": "25a83a0d-a742-49f6-985e-e27887cbf922",
   "metadata": {
    "id": "25a83a0d-a742-49f6-985e-e27887cbf922"
   },
   "source": [
    "\n",
    "---\n",
    "\n",
    "**Best of luck! Immerse yourself in the world of books, and may the data be with you!**"
   ]
  },
  {
   "cell_type": "markdown",
   "id": "7b75cf0d-9afa-4eec-a9e2-befeac68b2a0",
   "metadata": {
    "id": "7b75cf0d-9afa-4eec-a9e2-befeac68b2a0"
   },
   "source": [
    "**Important Note**:\n",
    "\n",
    "In the fast-changing online world, websites often update and change their structures. When you try this lab, the **Books to Scrape** website might differ from what you expect.\n",
    "\n",
    "If you encounter issues due to these changes, like new rules or obstacles preventing data extraction, don’t worry! Get creative.\n",
    "\n",
    "You can choose another website that interests you and is suitable for scraping data. Options like Wikipedia, The New York Times, or even library databases are great alternatives. The main goal remains the same: extract useful data and enhance your web scraping skills while exploring a source of information you enjoy. This is your opportunity to practice and adapt to different web environments!"
   ]
  },
  {
   "cell_type": "code",
   "execution_count": 6,
   "id": "40359eee-9cd7-4884-bfa4-83344c222305",
   "metadata": {
    "id": "40359eee-9cd7-4884-bfa4-83344c222305"
   },
   "outputs": [],
   "source": [
    "# Your solution goes here\n",
    "\n"
   ]
  },
  {
   "cell_type": "code",
   "execution_count": 7,
   "id": "acbe4791-34a0-46a7-9093-7f732a649e60",
   "metadata": {
    "id": "yVB5PyUKaAbi"
   },
   "outputs": [],
   "source": [
    "# 📚 Basic libraries\n",
    "import pandas as pd\n",
    "\n",
    "#❗New Libraries !\n",
    "from bs4 import BeautifulSoup\n",
    "import requests\n",
    "\n",
    "# ⚙️ Settings\n",
    "pd.set_option('display.max_columns', None) # display all columns\n",
    "import warnings\n",
    "warnings.filterwarnings('ignore') # ignore warnings"
   ]
  },
  {
   "cell_type": "code",
   "execution_count": 8,
   "id": "b7f70055-fad1-4088-b6fc-2b2a11bff6e7",
   "metadata": {},
   "outputs": [],
   "source": [
    "link=\"https://books.toscrape.com/\""
   ]
  },
  {
   "cell_type": "code",
   "execution_count": 9,
   "id": "659ba67b-8a20-48d0-8e9c-86937efa2992",
   "metadata": {},
   "outputs": [
    {
     "data": {
      "text/plain": [
       "200"
      ]
     },
     "execution_count": 9,
     "metadata": {},
     "output_type": "execute_result"
    }
   ],
   "source": [
    "response=requests.get(link)\n",
    "response.status_code "
   ]
  },
  {
   "cell_type": "code",
   "execution_count": 10,
   "id": "0d7f41e8-a50a-4793-8f0f-9363406ac666",
   "metadata": {},
   "outputs": [],
   "source": [
    "html=response.text"
   ]
  },
  {
   "cell_type": "code",
   "execution_count": 11,
   "id": "92c20589-9403-4a0d-9869-f42d2aa2e17f",
   "metadata": {},
   "outputs": [],
   "source": [
    "soup=BeautifulSoup(html,\"html.parser\")"
   ]
  },
  {
   "cell_type": "markdown",
   "id": "6ccd0e85-7c73-4e84-a2d8-f21a62d6c5e3",
   "metadata": {
    "tags": []
   },
   "source": [
    "<h2 style=\"color: #008080;\">Getting all Books title</h2>"
   ]
  },
  {
   "cell_type": "code",
   "execution_count": 13,
   "id": "0a9e13e8-799d-45cc-9667-b0e67402f231",
   "metadata": {},
   "outputs": [
    {
     "data": {
      "text/plain": [
       "20"
      ]
     },
     "execution_count": 13,
     "metadata": {},
     "output_type": "execute_result"
    }
   ],
   "source": [
    "len(soup.find_all(\"h3\"))"
   ]
  },
  {
   "cell_type": "code",
   "execution_count": 14,
   "id": "9e512029-033c-4623-97a6-528983f3979d",
   "metadata": {
    "scrolled": true
   },
   "outputs": [
    {
     "data": {
      "text/plain": [
       "[<h3><a href=\"catalogue/a-light-in-the-attic_1000/index.html\" title=\"A Light in the Attic\">A Light in the ...</a></h3>,\n",
       " <h3><a href=\"catalogue/tipping-the-velvet_999/index.html\" title=\"Tipping the Velvet\">Tipping the Velvet</a></h3>,\n",
       " <h3><a href=\"catalogue/soumission_998/index.html\" title=\"Soumission\">Soumission</a></h3>,\n",
       " <h3><a href=\"catalogue/sharp-objects_997/index.html\" title=\"Sharp Objects\">Sharp Objects</a></h3>,\n",
       " <h3><a href=\"catalogue/sapiens-a-brief-history-of-humankind_996/index.html\" title=\"Sapiens: A Brief History of Humankind\">Sapiens: A Brief History ...</a></h3>,\n",
       " <h3><a href=\"catalogue/the-requiem-red_995/index.html\" title=\"The Requiem Red\">The Requiem Red</a></h3>,\n",
       " <h3><a href=\"catalogue/the-dirty-little-secrets-of-getting-your-dream-job_994/index.html\" title=\"The Dirty Little Secrets of Getting Your Dream Job\">The Dirty Little Secrets ...</a></h3>,\n",
       " <h3><a href=\"catalogue/the-coming-woman-a-novel-based-on-the-life-of-the-infamous-feminist-victoria-woodhull_993/index.html\" title=\"The Coming Woman: A Novel Based on the Life of the Infamous Feminist, Victoria Woodhull\">The Coming Woman: A ...</a></h3>,\n",
       " <h3><a href=\"catalogue/the-boys-in-the-boat-nine-americans-and-their-epic-quest-for-gold-at-the-1936-berlin-olympics_992/index.html\" title=\"The Boys in the Boat: Nine Americans and Their Epic Quest for Gold at the 1936 Berlin Olympics\">The Boys in the ...</a></h3>,\n",
       " <h3><a href=\"catalogue/the-black-maria_991/index.html\" title=\"The Black Maria\">The Black Maria</a></h3>,\n",
       " <h3><a href=\"catalogue/starving-hearts-triangular-trade-trilogy-1_990/index.html\" title=\"Starving Hearts (Triangular Trade Trilogy, #1)\">Starving Hearts (Triangular Trade ...</a></h3>,\n",
       " <h3><a href=\"catalogue/shakespeares-sonnets_989/index.html\" title=\"Shakespeare's Sonnets\">Shakespeare's Sonnets</a></h3>,\n",
       " <h3><a href=\"catalogue/set-me-free_988/index.html\" title=\"Set Me Free\">Set Me Free</a></h3>,\n",
       " <h3><a href=\"catalogue/scott-pilgrims-precious-little-life-scott-pilgrim-1_987/index.html\" title=\"Scott Pilgrim's Precious Little Life (Scott Pilgrim #1)\">Scott Pilgrim's Precious Little ...</a></h3>,\n",
       " <h3><a href=\"catalogue/rip-it-up-and-start-again_986/index.html\" title=\"Rip it Up and Start Again\">Rip it Up and ...</a></h3>,\n",
       " <h3><a href=\"catalogue/our-band-could-be-your-life-scenes-from-the-american-indie-underground-1981-1991_985/index.html\" title=\"Our Band Could Be Your Life: Scenes from the American Indie Underground, 1981-1991\">Our Band Could Be ...</a></h3>,\n",
       " <h3><a href=\"catalogue/olio_984/index.html\" title=\"Olio\">Olio</a></h3>,\n",
       " <h3><a href=\"catalogue/mesaerion-the-best-science-fiction-stories-1800-1849_983/index.html\" title=\"Mesaerion: The Best Science Fiction Stories 1800-1849\">Mesaerion: The Best Science ...</a></h3>,\n",
       " <h3><a href=\"catalogue/libertarianism-for-beginners_982/index.html\" title=\"Libertarianism for Beginners\">Libertarianism for Beginners</a></h3>,\n",
       " <h3><a href=\"catalogue/its-only-the-himalayas_981/index.html\" title=\"It's Only the Himalayas\">It's Only the Himalayas</a></h3>]"
      ]
     },
     "execution_count": 14,
     "metadata": {},
     "output_type": "execute_result"
    }
   ],
   "source": [
    "list_h3=soup.find_all(\"h3\")\n",
    "list_h3"
   ]
  },
  {
   "cell_type": "code",
   "execution_count": 15,
   "id": "f491d277-baea-4db4-aaef-99470244830a",
   "metadata": {},
   "outputs": [],
   "source": [
    "## probamos con un elemento"
   ]
  },
  {
   "cell_type": "code",
   "execution_count": 16,
   "id": "317d79db-c9da-4bd3-b7af-30989f10a89f",
   "metadata": {},
   "outputs": [
    {
     "data": {
      "text/plain": [
       "'A Light in the Attic'"
      ]
     },
     "execution_count": 16,
     "metadata": {},
     "output_type": "execute_result"
    }
   ],
   "source": [
    "test=list_h3[0]\n",
    "test.find(\"a\").get(\"title\")"
   ]
  },
  {
   "cell_type": "code",
   "execution_count": 17,
   "id": "9a4d5b34-e22f-4dd8-9356-ead92001a72d",
   "metadata": {},
   "outputs": [],
   "source": [
    "## Ahora iteramos para que nos dé todos los títulos"
   ]
  },
  {
   "cell_type": "code",
   "execution_count": 18,
   "id": "9152b722-5742-4410-bfb2-ca078008e815",
   "metadata": {},
   "outputs": [
    {
     "data": {
      "text/plain": [
       "['A Light in the Attic',\n",
       " 'Tipping the Velvet',\n",
       " 'Soumission',\n",
       " 'Sharp Objects',\n",
       " 'Sapiens: A Brief History of Humankind',\n",
       " 'The Requiem Red',\n",
       " 'The Dirty Little Secrets of Getting Your Dream Job',\n",
       " 'The Coming Woman: A Novel Based on the Life of the Infamous Feminist, Victoria Woodhull',\n",
       " 'The Boys in the Boat: Nine Americans and Their Epic Quest for Gold at the 1936 Berlin Olympics',\n",
       " 'The Black Maria',\n",
       " 'Starving Hearts (Triangular Trade Trilogy, #1)',\n",
       " \"Shakespeare's Sonnets\",\n",
       " 'Set Me Free',\n",
       " \"Scott Pilgrim's Precious Little Life (Scott Pilgrim #1)\",\n",
       " 'Rip it Up and Start Again',\n",
       " 'Our Band Could Be Your Life: Scenes from the American Indie Underground, 1981-1991',\n",
       " 'Olio',\n",
       " 'Mesaerion: The Best Science Fiction Stories 1800-1849',\n",
       " 'Libertarianism for Beginners',\n",
       " \"It's Only the Himalayas\"]"
      ]
     },
     "execution_count": 18,
     "metadata": {},
     "output_type": "execute_result"
    }
   ],
   "source": [
    "lista_titulos=[]\n",
    "for element in list_h3:\n",
    "    titulo=element.find(\"a\").get(\"title\")\n",
    "    lista_titulos.append(titulo)\n",
    "lista_titulos"
   ]
  },
  {
   "cell_type": "markdown",
   "id": "eedfcbad-d838-44fa-9412-4f968542db19",
   "metadata": {
    "tags": []
   },
   "source": [
    "<h2 style=\"color: #008080;\">Getting all Books Prices</h2>"
   ]
  },
  {
   "cell_type": "markdown",
   "id": "cfa945c4-20ed-405a-989b-5f66d1bc0f30",
   "metadata": {},
   "source": [
    "Vemos en la web que en html el precio está incluido dentro de la categoría párrafo \"\"< p >\"\" y cuya clase se titula \"price color\", por lo que:"
   ]
  },
  {
   "cell_type": "code",
   "execution_count": 21,
   "id": "631fafaf-3d25-4960-965d-b1ca397d6578",
   "metadata": {
    "scrolled": true
   },
   "outputs": [
    {
     "data": {
      "text/plain": [
       "[<p class=\"price_color\">Â£51.77</p>,\n",
       " <p class=\"price_color\">Â£53.74</p>,\n",
       " <p class=\"price_color\">Â£50.10</p>,\n",
       " <p class=\"price_color\">Â£47.82</p>,\n",
       " <p class=\"price_color\">Â£54.23</p>,\n",
       " <p class=\"price_color\">Â£22.65</p>,\n",
       " <p class=\"price_color\">Â£33.34</p>,\n",
       " <p class=\"price_color\">Â£17.93</p>,\n",
       " <p class=\"price_color\">Â£22.60</p>,\n",
       " <p class=\"price_color\">Â£52.15</p>,\n",
       " <p class=\"price_color\">Â£13.99</p>,\n",
       " <p class=\"price_color\">Â£20.66</p>,\n",
       " <p class=\"price_color\">Â£17.46</p>,\n",
       " <p class=\"price_color\">Â£52.29</p>,\n",
       " <p class=\"price_color\">Â£35.02</p>,\n",
       " <p class=\"price_color\">Â£57.25</p>,\n",
       " <p class=\"price_color\">Â£23.88</p>,\n",
       " <p class=\"price_color\">Â£37.59</p>,\n",
       " <p class=\"price_color\">Â£51.33</p>,\n",
       " <p class=\"price_color\">Â£45.17</p>]"
      ]
     },
     "execution_count": 21,
     "metadata": {},
     "output_type": "execute_result"
    }
   ],
   "source": [
    "list_p_price=soup.find_all(class_=\"price_color\")\n",
    "list_p_price"
   ]
  },
  {
   "cell_type": "code",
   "execution_count": 22,
   "id": "1b871f8d-8c65-4453-a477-cd8c38a45c5d",
   "metadata": {},
   "outputs": [
    {
     "data": {
      "text/plain": [
       "<p class=\"price_color\">Â£51.77</p>"
      ]
     },
     "execution_count": 22,
     "metadata": {},
     "output_type": "execute_result"
    }
   ],
   "source": [
    "## Probamos con un elemento\n",
    "test2=list_p_price[0]\n",
    "test2"
   ]
  },
  {
   "cell_type": "code",
   "execution_count": 23,
   "id": "e90e75cc-9f3c-48fb-bfbc-7e3537d2f197",
   "metadata": {},
   "outputs": [
    {
     "data": {
      "text/plain": [
       "'Â£51.77'"
      ]
     },
     "execution_count": 23,
     "metadata": {},
     "output_type": "execute_result"
    }
   ],
   "source": [
    "test2.get_text()"
   ]
  },
  {
   "cell_type": "code",
   "execution_count": 24,
   "id": "dfa44cf8-230e-490d-943d-a858ad9659ed",
   "metadata": {},
   "outputs": [
    {
     "data": {
      "text/plain": [
       "51.77"
      ]
     },
     "execution_count": 24,
     "metadata": {},
     "output_type": "execute_result"
    }
   ],
   "source": [
    "## Para coger a partir del 3er caracter del string y pasarlo a float:\n",
    "float(test2.get_text()[2:])"
   ]
  },
  {
   "cell_type": "code",
   "execution_count": 25,
   "id": "e35c3413-1d23-46af-afba-8af4ab88ccbd",
   "metadata": {},
   "outputs": [],
   "source": [
    "## Ahora iteramos"
   ]
  },
  {
   "cell_type": "code",
   "execution_count": 26,
   "id": "1bb9d539-7fb1-4de4-84e1-dbdece8988fb",
   "metadata": {},
   "outputs": [
    {
     "data": {
      "text/plain": [
       "[51.77,\n",
       " 53.74,\n",
       " 50.1,\n",
       " 47.82,\n",
       " 54.23,\n",
       " 22.65,\n",
       " 33.34,\n",
       " 17.93,\n",
       " 22.6,\n",
       " 52.15,\n",
       " 13.99,\n",
       " 20.66,\n",
       " 17.46,\n",
       " 52.29,\n",
       " 35.02,\n",
       " 57.25,\n",
       " 23.88,\n",
       " 37.59,\n",
       " 51.33,\n",
       " 45.17]"
      ]
     },
     "execution_count": 26,
     "metadata": {},
     "output_type": "execute_result"
    }
   ],
   "source": [
    "list_price=[]\n",
    "for element in list_p_price:\n",
    "    price=float(element.get_text()[2:])\n",
    "    list_price.append(price)\n",
    "list_price"
   ]
  },
  {
   "cell_type": "code",
   "execution_count": 27,
   "id": "d6a0fa3d-985d-49e4-9aa8-fa41bb62dccd",
   "metadata": {
    "scrolled": true
   },
   "outputs": [
    {
     "data": {
      "text/html": [
       "<div>\n",
       "<style scoped>\n",
       "    .dataframe tbody tr th:only-of-type {\n",
       "        vertical-align: middle;\n",
       "    }\n",
       "\n",
       "    .dataframe tbody tr th {\n",
       "        vertical-align: top;\n",
       "    }\n",
       "\n",
       "    .dataframe thead th {\n",
       "        text-align: right;\n",
       "    }\n",
       "</style>\n",
       "<table border=\"1\" class=\"dataframe\">\n",
       "  <thead>\n",
       "    <tr style=\"text-align: right;\">\n",
       "      <th></th>\n",
       "      <th>titulo</th>\n",
       "      <th>precio</th>\n",
       "    </tr>\n",
       "  </thead>\n",
       "  <tbody>\n",
       "    <tr>\n",
       "      <th>0</th>\n",
       "      <td>A Light in the Attic</td>\n",
       "      <td>51.77</td>\n",
       "    </tr>\n",
       "    <tr>\n",
       "      <th>1</th>\n",
       "      <td>Tipping the Velvet</td>\n",
       "      <td>53.74</td>\n",
       "    </tr>\n",
       "    <tr>\n",
       "      <th>2</th>\n",
       "      <td>Soumission</td>\n",
       "      <td>50.10</td>\n",
       "    </tr>\n",
       "    <tr>\n",
       "      <th>3</th>\n",
       "      <td>Sharp Objects</td>\n",
       "      <td>47.82</td>\n",
       "    </tr>\n",
       "    <tr>\n",
       "      <th>4</th>\n",
       "      <td>Sapiens: A Brief History of Humankind</td>\n",
       "      <td>54.23</td>\n",
       "    </tr>\n",
       "    <tr>\n",
       "      <th>5</th>\n",
       "      <td>The Requiem Red</td>\n",
       "      <td>22.65</td>\n",
       "    </tr>\n",
       "    <tr>\n",
       "      <th>6</th>\n",
       "      <td>The Dirty Little Secrets of Getting Your Dream...</td>\n",
       "      <td>33.34</td>\n",
       "    </tr>\n",
       "    <tr>\n",
       "      <th>7</th>\n",
       "      <td>The Coming Woman: A Novel Based on the Life of...</td>\n",
       "      <td>17.93</td>\n",
       "    </tr>\n",
       "    <tr>\n",
       "      <th>8</th>\n",
       "      <td>The Boys in the Boat: Nine Americans and Their...</td>\n",
       "      <td>22.60</td>\n",
       "    </tr>\n",
       "    <tr>\n",
       "      <th>9</th>\n",
       "      <td>The Black Maria</td>\n",
       "      <td>52.15</td>\n",
       "    </tr>\n",
       "    <tr>\n",
       "      <th>10</th>\n",
       "      <td>Starving Hearts (Triangular Trade Trilogy, #1)</td>\n",
       "      <td>13.99</td>\n",
       "    </tr>\n",
       "    <tr>\n",
       "      <th>11</th>\n",
       "      <td>Shakespeare's Sonnets</td>\n",
       "      <td>20.66</td>\n",
       "    </tr>\n",
       "    <tr>\n",
       "      <th>12</th>\n",
       "      <td>Set Me Free</td>\n",
       "      <td>17.46</td>\n",
       "    </tr>\n",
       "    <tr>\n",
       "      <th>13</th>\n",
       "      <td>Scott Pilgrim's Precious Little Life (Scott Pi...</td>\n",
       "      <td>52.29</td>\n",
       "    </tr>\n",
       "    <tr>\n",
       "      <th>14</th>\n",
       "      <td>Rip it Up and Start Again</td>\n",
       "      <td>35.02</td>\n",
       "    </tr>\n",
       "    <tr>\n",
       "      <th>15</th>\n",
       "      <td>Our Band Could Be Your Life: Scenes from the A...</td>\n",
       "      <td>57.25</td>\n",
       "    </tr>\n",
       "    <tr>\n",
       "      <th>16</th>\n",
       "      <td>Olio</td>\n",
       "      <td>23.88</td>\n",
       "    </tr>\n",
       "    <tr>\n",
       "      <th>17</th>\n",
       "      <td>Mesaerion: The Best Science Fiction Stories 18...</td>\n",
       "      <td>37.59</td>\n",
       "    </tr>\n",
       "    <tr>\n",
       "      <th>18</th>\n",
       "      <td>Libertarianism for Beginners</td>\n",
       "      <td>51.33</td>\n",
       "    </tr>\n",
       "    <tr>\n",
       "      <th>19</th>\n",
       "      <td>It's Only the Himalayas</td>\n",
       "      <td>45.17</td>\n",
       "    </tr>\n",
       "  </tbody>\n",
       "</table>\n",
       "</div>"
      ],
      "text/plain": [
       "                                               titulo  precio\n",
       "0                                A Light in the Attic   51.77\n",
       "1                                  Tipping the Velvet   53.74\n",
       "2                                          Soumission   50.10\n",
       "3                                       Sharp Objects   47.82\n",
       "4               Sapiens: A Brief History of Humankind   54.23\n",
       "5                                     The Requiem Red   22.65\n",
       "6   The Dirty Little Secrets of Getting Your Dream...   33.34\n",
       "7   The Coming Woman: A Novel Based on the Life of...   17.93\n",
       "8   The Boys in the Boat: Nine Americans and Their...   22.60\n",
       "9                                     The Black Maria   52.15\n",
       "10     Starving Hearts (Triangular Trade Trilogy, #1)   13.99\n",
       "11                              Shakespeare's Sonnets   20.66\n",
       "12                                        Set Me Free   17.46\n",
       "13  Scott Pilgrim's Precious Little Life (Scott Pi...   52.29\n",
       "14                          Rip it Up and Start Again   35.02\n",
       "15  Our Band Could Be Your Life: Scenes from the A...   57.25\n",
       "16                                               Olio   23.88\n",
       "17  Mesaerion: The Best Science Fiction Stories 18...   37.59\n",
       "18                       Libertarianism for Beginners   51.33\n",
       "19                            It's Only the Himalayas   45.17"
      ]
     },
     "execution_count": 27,
     "metadata": {},
     "output_type": "execute_result"
    }
   ],
   "source": [
    "diccionario={\"titulo\":lista_titulos,\n",
    "             \"precio\":list_price}\n",
    "libros_df1=pd.DataFrame(data=diccionario)\n",
    "libros_df1"
   ]
  },
  {
   "cell_type": "markdown",
   "id": "4812e0fe",
   "metadata": {
    "tags": []
   },
   "source": [
    "<h2 style=\"color: #008080;\">Getting all Books Ratings</h2>"
   ]
  },
  {
   "cell_type": "code",
   "execution_count": 29,
   "id": "c4a3f4eb-be3e-41f6-b715-84a258634a68",
   "metadata": {
    "scrolled": true
   },
   "outputs": [
    {
     "data": {
      "text/plain": [
       "[<p class=\"star-rating Three\">\n",
       " <i class=\"icon-star\"></i>\n",
       " <i class=\"icon-star\"></i>\n",
       " <i class=\"icon-star\"></i>\n",
       " <i class=\"icon-star\"></i>\n",
       " <i class=\"icon-star\"></i>\n",
       " </p>,\n",
       " <p class=\"star-rating One\">\n",
       " <i class=\"icon-star\"></i>\n",
       " <i class=\"icon-star\"></i>\n",
       " <i class=\"icon-star\"></i>\n",
       " <i class=\"icon-star\"></i>\n",
       " <i class=\"icon-star\"></i>\n",
       " </p>,\n",
       " <p class=\"star-rating One\">\n",
       " <i class=\"icon-star\"></i>\n",
       " <i class=\"icon-star\"></i>\n",
       " <i class=\"icon-star\"></i>\n",
       " <i class=\"icon-star\"></i>\n",
       " <i class=\"icon-star\"></i>\n",
       " </p>,\n",
       " <p class=\"star-rating Four\">\n",
       " <i class=\"icon-star\"></i>\n",
       " <i class=\"icon-star\"></i>\n",
       " <i class=\"icon-star\"></i>\n",
       " <i class=\"icon-star\"></i>\n",
       " <i class=\"icon-star\"></i>\n",
       " </p>,\n",
       " <p class=\"star-rating Five\">\n",
       " <i class=\"icon-star\"></i>\n",
       " <i class=\"icon-star\"></i>\n",
       " <i class=\"icon-star\"></i>\n",
       " <i class=\"icon-star\"></i>\n",
       " <i class=\"icon-star\"></i>\n",
       " </p>,\n",
       " <p class=\"star-rating One\">\n",
       " <i class=\"icon-star\"></i>\n",
       " <i class=\"icon-star\"></i>\n",
       " <i class=\"icon-star\"></i>\n",
       " <i class=\"icon-star\"></i>\n",
       " <i class=\"icon-star\"></i>\n",
       " </p>,\n",
       " <p class=\"star-rating Four\">\n",
       " <i class=\"icon-star\"></i>\n",
       " <i class=\"icon-star\"></i>\n",
       " <i class=\"icon-star\"></i>\n",
       " <i class=\"icon-star\"></i>\n",
       " <i class=\"icon-star\"></i>\n",
       " </p>,\n",
       " <p class=\"star-rating Three\">\n",
       " <i class=\"icon-star\"></i>\n",
       " <i class=\"icon-star\"></i>\n",
       " <i class=\"icon-star\"></i>\n",
       " <i class=\"icon-star\"></i>\n",
       " <i class=\"icon-star\"></i>\n",
       " </p>,\n",
       " <p class=\"star-rating Four\">\n",
       " <i class=\"icon-star\"></i>\n",
       " <i class=\"icon-star\"></i>\n",
       " <i class=\"icon-star\"></i>\n",
       " <i class=\"icon-star\"></i>\n",
       " <i class=\"icon-star\"></i>\n",
       " </p>,\n",
       " <p class=\"star-rating One\">\n",
       " <i class=\"icon-star\"></i>\n",
       " <i class=\"icon-star\"></i>\n",
       " <i class=\"icon-star\"></i>\n",
       " <i class=\"icon-star\"></i>\n",
       " <i class=\"icon-star\"></i>\n",
       " </p>,\n",
       " <p class=\"star-rating Two\">\n",
       " <i class=\"icon-star\"></i>\n",
       " <i class=\"icon-star\"></i>\n",
       " <i class=\"icon-star\"></i>\n",
       " <i class=\"icon-star\"></i>\n",
       " <i class=\"icon-star\"></i>\n",
       " </p>,\n",
       " <p class=\"star-rating Four\">\n",
       " <i class=\"icon-star\"></i>\n",
       " <i class=\"icon-star\"></i>\n",
       " <i class=\"icon-star\"></i>\n",
       " <i class=\"icon-star\"></i>\n",
       " <i class=\"icon-star\"></i>\n",
       " </p>,\n",
       " <p class=\"star-rating Five\">\n",
       " <i class=\"icon-star\"></i>\n",
       " <i class=\"icon-star\"></i>\n",
       " <i class=\"icon-star\"></i>\n",
       " <i class=\"icon-star\"></i>\n",
       " <i class=\"icon-star\"></i>\n",
       " </p>,\n",
       " <p class=\"star-rating Five\">\n",
       " <i class=\"icon-star\"></i>\n",
       " <i class=\"icon-star\"></i>\n",
       " <i class=\"icon-star\"></i>\n",
       " <i class=\"icon-star\"></i>\n",
       " <i class=\"icon-star\"></i>\n",
       " </p>,\n",
       " <p class=\"star-rating Five\">\n",
       " <i class=\"icon-star\"></i>\n",
       " <i class=\"icon-star\"></i>\n",
       " <i class=\"icon-star\"></i>\n",
       " <i class=\"icon-star\"></i>\n",
       " <i class=\"icon-star\"></i>\n",
       " </p>,\n",
       " <p class=\"star-rating Three\">\n",
       " <i class=\"icon-star\"></i>\n",
       " <i class=\"icon-star\"></i>\n",
       " <i class=\"icon-star\"></i>\n",
       " <i class=\"icon-star\"></i>\n",
       " <i class=\"icon-star\"></i>\n",
       " </p>,\n",
       " <p class=\"star-rating One\">\n",
       " <i class=\"icon-star\"></i>\n",
       " <i class=\"icon-star\"></i>\n",
       " <i class=\"icon-star\"></i>\n",
       " <i class=\"icon-star\"></i>\n",
       " <i class=\"icon-star\"></i>\n",
       " </p>,\n",
       " <p class=\"star-rating One\">\n",
       " <i class=\"icon-star\"></i>\n",
       " <i class=\"icon-star\"></i>\n",
       " <i class=\"icon-star\"></i>\n",
       " <i class=\"icon-star\"></i>\n",
       " <i class=\"icon-star\"></i>\n",
       " </p>,\n",
       " <p class=\"star-rating Two\">\n",
       " <i class=\"icon-star\"></i>\n",
       " <i class=\"icon-star\"></i>\n",
       " <i class=\"icon-star\"></i>\n",
       " <i class=\"icon-star\"></i>\n",
       " <i class=\"icon-star\"></i>\n",
       " </p>,\n",
       " <p class=\"star-rating Two\">\n",
       " <i class=\"icon-star\"></i>\n",
       " <i class=\"icon-star\"></i>\n",
       " <i class=\"icon-star\"></i>\n",
       " <i class=\"icon-star\"></i>\n",
       " <i class=\"icon-star\"></i>\n",
       " </p>]"
      ]
     },
     "execution_count": 29,
     "metadata": {},
     "output_type": "execute_result"
    }
   ],
   "source": [
    "list_p_rate=soup.find_all(class_=\"star-rating\")\n",
    "list_p_rate"
   ]
  },
  {
   "cell_type": "code",
   "execution_count": 30,
   "id": "1c07c94b-f2a2-41c1-af53-286cbb79505c",
   "metadata": {},
   "outputs": [
    {
     "data": {
      "text/plain": [
       "<p class=\"star-rating Three\">\n",
       "<i class=\"icon-star\"></i>\n",
       "<i class=\"icon-star\"></i>\n",
       "<i class=\"icon-star\"></i>\n",
       "<i class=\"icon-star\"></i>\n",
       "<i class=\"icon-star\"></i>\n",
       "</p>"
      ]
     },
     "execution_count": 30,
     "metadata": {},
     "output_type": "execute_result"
    }
   ],
   "source": [
    "test3=list_p_rate[0]\n",
    "test3"
   ]
  },
  {
   "cell_type": "code",
   "execution_count": 31,
   "id": "b763597d-fbcb-4700-a266-1723ec5c74ff",
   "metadata": {},
   "outputs": [
    {
     "data": {
      "text/plain": [
       "'Three'"
      ]
     },
     "execution_count": 31,
     "metadata": {},
     "output_type": "execute_result"
    }
   ],
   "source": [
    "test3.get(\"class\")[1]\n"
   ]
  },
  {
   "cell_type": "code",
   "execution_count": 32,
   "id": "7f3ff64a-71be-4a05-a4c5-f00a9eb772e2",
   "metadata": {},
   "outputs": [
    {
     "data": {
      "text/plain": [
       "[3, 1, 1, 4, 5, 1, 4, 3, 4, 1, 2, 4, 5, 5, 5, 3, 1, 1, 2, 2]"
      ]
     },
     "execution_count": 32,
     "metadata": {},
     "output_type": "execute_result"
    }
   ],
   "source": [
    "list_rate=[]\n",
    "word_to_num={\"One\":1,\"Two\":2,\"Three\":3,\"Four\":4,\"Five\":5}\n",
    "for element in list_p_rate:\n",
    "    rate_str=element.get(\"class\")[1]\n",
    "    rate=word_to_num.get(rate_str,0)\n",
    "    list_rate.append(rate)\n",
    "list_rate"
   ]
  },
  {
   "cell_type": "markdown",
   "id": "b1c7f309",
   "metadata": {
    "tags": []
   },
   "source": [
    "<h2 style=\"color: #008080;\">Getting all Books stock</h2>"
   ]
  },
  {
   "cell_type": "code",
   "execution_count": 34,
   "id": "c3a5f525-b326-40a9-a23c-ca0ee2001a19",
   "metadata": {
    "scrolled": true
   },
   "outputs": [
    {
     "data": {
      "text/plain": [
       "[<p class=\"instock availability\">\n",
       " <i class=\"icon-ok\"></i>\n",
       "     \n",
       "         In stock\n",
       "     \n",
       " </p>,\n",
       " <p class=\"instock availability\">\n",
       " <i class=\"icon-ok\"></i>\n",
       "     \n",
       "         In stock\n",
       "     \n",
       " </p>,\n",
       " <p class=\"instock availability\">\n",
       " <i class=\"icon-ok\"></i>\n",
       "     \n",
       "         In stock\n",
       "     \n",
       " </p>,\n",
       " <p class=\"instock availability\">\n",
       " <i class=\"icon-ok\"></i>\n",
       "     \n",
       "         In stock\n",
       "     \n",
       " </p>,\n",
       " <p class=\"instock availability\">\n",
       " <i class=\"icon-ok\"></i>\n",
       "     \n",
       "         In stock\n",
       "     \n",
       " </p>,\n",
       " <p class=\"instock availability\">\n",
       " <i class=\"icon-ok\"></i>\n",
       "     \n",
       "         In stock\n",
       "     \n",
       " </p>,\n",
       " <p class=\"instock availability\">\n",
       " <i class=\"icon-ok\"></i>\n",
       "     \n",
       "         In stock\n",
       "     \n",
       " </p>,\n",
       " <p class=\"instock availability\">\n",
       " <i class=\"icon-ok\"></i>\n",
       "     \n",
       "         In stock\n",
       "     \n",
       " </p>,\n",
       " <p class=\"instock availability\">\n",
       " <i class=\"icon-ok\"></i>\n",
       "     \n",
       "         In stock\n",
       "     \n",
       " </p>,\n",
       " <p class=\"instock availability\">\n",
       " <i class=\"icon-ok\"></i>\n",
       "     \n",
       "         In stock\n",
       "     \n",
       " </p>,\n",
       " <p class=\"instock availability\">\n",
       " <i class=\"icon-ok\"></i>\n",
       "     \n",
       "         In stock\n",
       "     \n",
       " </p>,\n",
       " <p class=\"instock availability\">\n",
       " <i class=\"icon-ok\"></i>\n",
       "     \n",
       "         In stock\n",
       "     \n",
       " </p>,\n",
       " <p class=\"instock availability\">\n",
       " <i class=\"icon-ok\"></i>\n",
       "     \n",
       "         In stock\n",
       "     \n",
       " </p>,\n",
       " <p class=\"instock availability\">\n",
       " <i class=\"icon-ok\"></i>\n",
       "     \n",
       "         In stock\n",
       "     \n",
       " </p>,\n",
       " <p class=\"instock availability\">\n",
       " <i class=\"icon-ok\"></i>\n",
       "     \n",
       "         In stock\n",
       "     \n",
       " </p>,\n",
       " <p class=\"instock availability\">\n",
       " <i class=\"icon-ok\"></i>\n",
       "     \n",
       "         In stock\n",
       "     \n",
       " </p>,\n",
       " <p class=\"instock availability\">\n",
       " <i class=\"icon-ok\"></i>\n",
       "     \n",
       "         In stock\n",
       "     \n",
       " </p>,\n",
       " <p class=\"instock availability\">\n",
       " <i class=\"icon-ok\"></i>\n",
       "     \n",
       "         In stock\n",
       "     \n",
       " </p>,\n",
       " <p class=\"instock availability\">\n",
       " <i class=\"icon-ok\"></i>\n",
       "     \n",
       "         In stock\n",
       "     \n",
       " </p>,\n",
       " <p class=\"instock availability\">\n",
       " <i class=\"icon-ok\"></i>\n",
       "     \n",
       "         In stock\n",
       "     \n",
       " </p>]"
      ]
     },
     "execution_count": 34,
     "metadata": {},
     "output_type": "execute_result"
    }
   ],
   "source": [
    "list_p_stock=soup.find_all(class_=\"instock availability\")\n",
    "list_p_stock"
   ]
  },
  {
   "cell_type": "code",
   "execution_count": 35,
   "id": "030334a9-87c3-4b7e-8930-2ba31d1fa183",
   "metadata": {},
   "outputs": [
    {
     "data": {
      "text/plain": [
       "<p class=\"instock availability\">\n",
       "<i class=\"icon-ok\"></i>\n",
       "    \n",
       "        In stock\n",
       "    \n",
       "</p>"
      ]
     },
     "execution_count": 35,
     "metadata": {},
     "output_type": "execute_result"
    }
   ],
   "source": [
    "test4=list_p_stock[0]\n",
    "test4"
   ]
  },
  {
   "cell_type": "code",
   "execution_count": 36,
   "id": "e4dff634-74e0-421e-bc31-d56b30a96800",
   "metadata": {},
   "outputs": [
    {
     "data": {
      "text/plain": [
       "'In stock'"
      ]
     },
     "execution_count": 36,
     "metadata": {},
     "output_type": "execute_result"
    }
   ],
   "source": [
    "test4.get_text(strip=True)"
   ]
  },
  {
   "cell_type": "code",
   "execution_count": 37,
   "id": "26095a0d-a308-4306-918b-9889a77cefa0",
   "metadata": {
    "scrolled": true
   },
   "outputs": [
    {
     "data": {
      "text/plain": [
       "['In stock',\n",
       " 'In stock',\n",
       " 'In stock',\n",
       " 'In stock',\n",
       " 'In stock',\n",
       " 'In stock',\n",
       " 'In stock',\n",
       " 'In stock',\n",
       " 'In stock',\n",
       " 'In stock',\n",
       " 'In stock',\n",
       " 'In stock',\n",
       " 'In stock',\n",
       " 'In stock',\n",
       " 'In stock',\n",
       " 'In stock',\n",
       " 'In stock',\n",
       " 'In stock',\n",
       " 'In stock',\n",
       " 'In stock']"
      ]
     },
     "execution_count": 37,
     "metadata": {},
     "output_type": "execute_result"
    }
   ],
   "source": [
    "list_stock=[]\n",
    "for element in list_p_stock:\n",
    "    stock=element.get_text(strip=True)\n",
    "    list_stock.append(stock)\n",
    "list_stock"
   ]
  },
  {
   "cell_type": "markdown",
   "id": "9531ecda",
   "metadata": {
    "tags": []
   },
   "source": [
    "<h2 style=\"color: #008080;\">Getting all Books UPC</h2>"
   ]
  },
  {
   "cell_type": "markdown",
   "id": "1346c71c-53a4-4327-b17a-111fffabe8a9",
   "metadata": {},
   "source": [
    "Todos estos valores están ahora en un link especial para cada libro, por lo que tendremos que iterar para que, por cada link, nos saque toda la info. que queremos. Tenemos que encontrar el hiperlink a cada uno. Sabíamos que estaban en la lista h3 del principio."
   ]
  },
  {
   "cell_type": "code",
   "execution_count": 40,
   "id": "c7f1d39b-f8f2-476a-b920-0284199217a9",
   "metadata": {
    "scrolled": true
   },
   "outputs": [
    {
     "data": {
      "text/plain": [
       "<h3><a href=\"catalogue/a-light-in-the-attic_1000/index.html\" title=\"A Light in the Attic\">A Light in the ...</a></h3>"
      ]
     },
     "execution_count": 40,
     "metadata": {},
     "output_type": "execute_result"
    }
   ],
   "source": [
    "test4=list_h3[0]\n",
    "test4"
   ]
  },
  {
   "cell_type": "code",
   "execution_count": 41,
   "id": "968549ae-72af-47ed-8cd1-e9207b5c61d9",
   "metadata": {},
   "outputs": [
    {
     "data": {
      "text/plain": [
       "'catalogue/a-light-in-the-attic_1000/index.html'"
      ]
     },
     "execution_count": 41,
     "metadata": {},
     "output_type": "execute_result"
    }
   ],
   "source": [
    "## Solo que en vez de \"title\", necesitamos el \"href\"\n",
    "test4.find(\"a\").get(\"href\")"
   ]
  },
  {
   "cell_type": "markdown",
   "id": "7dfce7ac-66e9-4747-a6e2-b0a828ac574d",
   "metadata": {},
   "source": [
    "## Primer bucle"
   ]
  },
  {
   "cell_type": "code",
   "execution_count": 42,
   "id": "e0123c02-13d6-4cb1-a92e-bbafc497884b",
   "metadata": {
    "scrolled": true
   },
   "outputs": [
    {
     "data": {
      "text/plain": [
       "['https://books.toscrape.com/catalogue/a-light-in-the-attic_1000/index.html',\n",
       " 'https://books.toscrape.com/catalogue/tipping-the-velvet_999/index.html',\n",
       " 'https://books.toscrape.com/catalogue/soumission_998/index.html',\n",
       " 'https://books.toscrape.com/catalogue/sharp-objects_997/index.html',\n",
       " 'https://books.toscrape.com/catalogue/sapiens-a-brief-history-of-humankind_996/index.html',\n",
       " 'https://books.toscrape.com/catalogue/the-requiem-red_995/index.html',\n",
       " 'https://books.toscrape.com/catalogue/the-dirty-little-secrets-of-getting-your-dream-job_994/index.html',\n",
       " 'https://books.toscrape.com/catalogue/the-coming-woman-a-novel-based-on-the-life-of-the-infamous-feminist-victoria-woodhull_993/index.html',\n",
       " 'https://books.toscrape.com/catalogue/the-boys-in-the-boat-nine-americans-and-their-epic-quest-for-gold-at-the-1936-berlin-olympics_992/index.html',\n",
       " 'https://books.toscrape.com/catalogue/the-black-maria_991/index.html',\n",
       " 'https://books.toscrape.com/catalogue/starving-hearts-triangular-trade-trilogy-1_990/index.html',\n",
       " 'https://books.toscrape.com/catalogue/shakespeares-sonnets_989/index.html',\n",
       " 'https://books.toscrape.com/catalogue/set-me-free_988/index.html',\n",
       " 'https://books.toscrape.com/catalogue/scott-pilgrims-precious-little-life-scott-pilgrim-1_987/index.html',\n",
       " 'https://books.toscrape.com/catalogue/rip-it-up-and-start-again_986/index.html',\n",
       " 'https://books.toscrape.com/catalogue/our-band-could-be-your-life-scenes-from-the-american-indie-underground-1981-1991_985/index.html',\n",
       " 'https://books.toscrape.com/catalogue/olio_984/index.html',\n",
       " 'https://books.toscrape.com/catalogue/mesaerion-the-best-science-fiction-stories-1800-1849_983/index.html',\n",
       " 'https://books.toscrape.com/catalogue/libertarianism-for-beginners_982/index.html',\n",
       " 'https://books.toscrape.com/catalogue/its-only-the-himalayas_981/index.html']"
      ]
     },
     "execution_count": 42,
     "metadata": {},
     "output_type": "execute_result"
    }
   ],
   "source": [
    "book_links = []\n",
    "for element in list_h3:\n",
    "    href = element.find(\"a\").get('href')\n",
    "    full_url = f\"https://books.toscrape.com/{href}\"  # Combina la URL base con la relativa\n",
    "    book_links.append(full_url)\n",
    "book_links"
   ]
  },
  {
   "cell_type": "raw",
   "id": "cd2bb12f-06e2-4a18-a1cf-5944c4920489",
   "metadata": {},
   "source": [
    "for book_url in book_links:\n",
    "    book_response = requests.get(book_url)\n",
    "    book_soup = BeautifulSoup(book_response.text, 'html.parser')\n",
    "    \n",
    "    # Extrae la información relevante de cada libro\n",
    "    title = book_soup.find('h1', class_='book-title').text\n",
    "    author = book_soup.find('a', class_='author-name').text\n",
    "    description = book_soup.find('div', class_='book-description').text\n",
    "    \n",
    "    print(f\"Title: {title}, Author: {author}\")\n",
    "    print(f\"Description: {description}\\n\")\n"
   ]
  },
  {
   "cell_type": "markdown",
   "id": "1d0df5af-9a90-4bcd-88e3-6b71f71d93ac",
   "metadata": {},
   "source": [
    "### Probamos solo para uno de los libros:"
   ]
  },
  {
   "cell_type": "code",
   "execution_count": 44,
   "id": "cd1cf8a1-49ff-4c05-9c8e-f2232182747e",
   "metadata": {},
   "outputs": [
    {
     "data": {
      "text/plain": [
       "200"
      ]
     },
     "execution_count": 44,
     "metadata": {},
     "output_type": "execute_result"
    }
   ],
   "source": [
    "link2=\"https://books.toscrape.com/catalogue/a-light-in-the-attic_1000/index.html\"\n",
    "response=requests.get(link2)\n",
    "response.status_code"
   ]
  },
  {
   "cell_type": "code",
   "execution_count": 45,
   "id": "90ece711-1045-4b99-a0c4-c7b6573b6630",
   "metadata": {},
   "outputs": [],
   "source": [
    "html2=response.text"
   ]
  },
  {
   "cell_type": "code",
   "execution_count": 46,
   "id": "c0d6eec8-480a-4ce7-8faf-80f427fbedb8",
   "metadata": {},
   "outputs": [],
   "source": [
    "soup2=BeautifulSoup(html2,\"html.parser\")"
   ]
  },
  {
   "cell_type": "code",
   "execution_count": 47,
   "id": "0d674ba4-98d5-44c7-a1d6-db71ac8af84f",
   "metadata": {},
   "outputs": [
    {
     "data": {
      "text/plain": [
       "'a897fe39b1053632'"
      ]
     },
     "execution_count": 47,
     "metadata": {},
     "output_type": "execute_result"
    }
   ],
   "source": [
    "test5=soup2.find(\"td\").get_text()\n",
    "test5"
   ]
  },
  {
   "cell_type": "markdown",
   "id": "7f76c5dd-eb6a-4a6d-ae32-c829da316b47",
   "metadata": {},
   "source": [
    "Vamos al bucle que vamos creando y metemos la ruta del UPC"
   ]
  },
  {
   "cell_type": "markdown",
   "id": "46c0acc0-36ad-466a-b079-32105710931c",
   "metadata": {},
   "source": [
    "## Creamos segundo bucle y metemos ruta webscapeada del UPC"
   ]
  },
  {
   "cell_type": "code",
   "execution_count": 49,
   "id": "3eced720-b2a9-476f-a30d-11b8f44a7774",
   "metadata": {
    "scrolled": true
   },
   "outputs": [],
   "source": [
    "list_p_upc=[]\n",
    "for book_url in book_links:\n",
    "    book_response = requests.get(book_url)\n",
    "    book_soup = BeautifulSoup(book_response.text, 'html.parser')\n",
    "    ##Metemos los UPC\n",
    "    list_p_upc.append(soup2.find(\"td\").get_text())"
   ]
  },
  {
   "cell_type": "markdown",
   "id": "7b6f166d",
   "metadata": {
    "tags": []
   },
   "source": [
    "<h2 style=\"color: #008080;\">Getting all Books genre</h2>"
   ]
  },
  {
   "cell_type": "code",
   "execution_count": 51,
   "id": "a37b3f7e-7047-424d-87ab-2ace31556f52",
   "metadata": {},
   "outputs": [
    {
     "data": {
      "text/plain": [
       "200"
      ]
     },
     "execution_count": 51,
     "metadata": {},
     "output_type": "execute_result"
    }
   ],
   "source": [
    "link2=\"https://books.toscrape.com/catalogue/a-light-in-the-attic_1000/index.html\"\n",
    "response=requests.get(link2)\n",
    "response.status_code"
   ]
  },
  {
   "cell_type": "code",
   "execution_count": 52,
   "id": "d8c5d9bb-a257-4448-a8af-164d883aadb2",
   "metadata": {},
   "outputs": [],
   "source": [
    "html2=response.text"
   ]
  },
  {
   "cell_type": "code",
   "execution_count": 53,
   "id": "30caef78-be5f-436f-bcd9-d4f462f3e554",
   "metadata": {},
   "outputs": [],
   "source": [
    "soup2=BeautifulSoup(html2,\"html.parser\")"
   ]
  },
  {
   "cell_type": "code",
   "execution_count": 54,
   "id": "efd5bf22-83bb-43f7-a456-18648e1a4939",
   "metadata": {
    "scrolled": true
   },
   "outputs": [
    {
     "name": "stdout",
     "output_type": "stream",
     "text": [
      "\n",
      "Poetry\n",
      "\n"
     ]
    }
   ],
   "source": [
    "test6=soup2.find_all(\"li\")[2].get_text()\n",
    "print(test6)"
   ]
  },
  {
   "cell_type": "markdown",
   "id": "77b6a852-a581-4c1e-9fe5-5a99740acbec",
   "metadata": {},
   "source": [
    "Y lo metemos al bucle que vamos formando"
   ]
  },
  {
   "cell_type": "raw",
   "id": "790e12fd-5a42-486b-8903-61d340676f1d",
   "metadata": {},
   "source": [
    "list_p_upc=[]\n",
    "list_p_genre=[]\n",
    "\n",
    "for book_url in book_links:\n",
    "    book_response = requests.get(book_url)\n",
    "    book_soup = BeautifulSoup(book_response.text, 'html.parser')\n",
    "    ## Metemos los UPC\n",
    "    list_p_upc.append(book_soup.find(\"td\").get_text())\n",
    "    ## Metemos el género\n",
    "    list_p_genre.append(book_soup.find_all(\"li\")[2].get_text())   \n"
   ]
  },
  {
   "cell_type": "markdown",
   "id": "8abacfc4-55c2-477a-922e-8e817d139893",
   "metadata": {
    "tags": []
   },
   "source": [
    "<h2 style=\"color: #008080;\">Getting all Books Description</h2>"
   ]
  },
  {
   "cell_type": "code",
   "execution_count": 62,
   "id": "044a167e-9f02-406a-9bc3-a55dd26c92d1",
   "metadata": {},
   "outputs": [
    {
     "data": {
      "text/plain": [
       "200"
      ]
     },
     "execution_count": 62,
     "metadata": {},
     "output_type": "execute_result"
    }
   ],
   "source": [
    "link2=\"https://books.toscrape.com/catalogue/a-light-in-the-attic_1000/index.html\"\n",
    "response=requests.get(link2)\n",
    "response.status_code"
   ]
  },
  {
   "cell_type": "code",
   "execution_count": 64,
   "id": "33a23724-738e-4281-8c8d-4656d65bb3eb",
   "metadata": {},
   "outputs": [],
   "source": [
    "html2=response.text"
   ]
  },
  {
   "cell_type": "code",
   "execution_count": 66,
   "id": "26dab3de-302c-457d-822d-47138f0a20da",
   "metadata": {},
   "outputs": [],
   "source": [
    "soup2=BeautifulSoup(html2,\"html.parser\")"
   ]
  },
  {
   "cell_type": "code",
   "execution_count": 68,
   "id": "9ddb3e30-76e0-4111-9e0d-8bb50bb1fbdb",
   "metadata": {},
   "outputs": [
    {
     "data": {
      "text/plain": [
       "\"It's hard to imagine a world without A Light in the Attic. This now-classic collection of poetry and drawings from Shel Silverstein celebrates its 20th anniversary with this special edition. Silverstein's humorous and creative verse can amuse the dowdiest of readers. Lemon-faced adults and fidgety kids sit still and read these rhythmic words and laugh and smile and love th It's hard to imagine a world without A Light in the Attic. This now-classic collection of poetry and drawings from Shel Silverstein celebrates its 20th anniversary with this special edition. Silverstein's humorous and creative verse can amuse the dowdiest of readers. Lemon-faced adults and fidgety kids sit still and read these rhythmic words and laugh and smile and love that Silverstein. Need proof of his genius? RockabyeRockabye baby, in the treetopDon't you know a treetopIs no safe place to rock?And who put you up there,And your cradle, too?Baby, I think someone down here'sGot it in for you. Shel, you never sounded so good. ...more\""
      ]
     },
     "execution_count": 68,
     "metadata": {},
     "output_type": "execute_result"
    }
   ],
   "source": [
    "test7=soup2.find_all(\"p\")[-1].get_text()\n",
    "test7"
   ]
  },
  {
   "cell_type": "markdown",
   "id": "67d4d888-1816-4f9c-8c9a-3c017eba6f7c",
   "metadata": {},
   "source": [
    "Y lo metemos al bucle que vamos formando "
   ]
  },
  {
   "cell_type": "raw",
   "id": "af351b09-7de1-4718-a6fd-f7b56ec4773f",
   "metadata": {},
   "source": [
    "list_p_upc=[]\n",
    "list_p_genre=[]\n",
    "list_p_descrip=[]\n",
    "for book_url in book_links:\n",
    "    book_response = requests.get(book_url)\n",
    "    book_soup = BeautifulSoup(book_response.text, 'html.parser')\n",
    "    ## Metemos los UPC\n",
    "    list_p_upc.append(book_soup.find(\"td\").get_text())\n",
    "    ## Metemos el género\n",
    "    list_p_genre.append(book_soup.find_all(\"li\")[2].get_text())   \n",
    "    ## Metemos la descripción\n",
    "    list_p_descrip.append(book_soup.find_all(\"p\")[3].get_text())"
   ]
  },
  {
   "cell_type": "markdown",
   "id": "013ce5f8-002f-4d33-8d17-92378a9c6b29",
   "metadata": {
    "tags": []
   },
   "source": [
    "<h2 style=\"color: #008080;\">Getting all Books title (inside each book's page)</h2>"
   ]
  },
  {
   "cell_type": "markdown",
   "id": "3333cb17-4598-43c9-acd9-8a3ac3eab43c",
   "metadata": {},
   "source": [
    "Hemos comprobado que es tanto el título, como el precio y el rating, lo podemos encontrar igualmente en la página de cada uno de los libros, por lo que es mejor conseguirlos de ahí y meterlos en el mismo bucle que el resto de info. que queremos del libro."
   ]
  },
  {
   "cell_type": "code",
   "execution_count": 82,
   "id": "b90798c7-3ad6-4580-905b-697979a737c9",
   "metadata": {},
   "outputs": [
    {
     "data": {
      "text/plain": [
       "200"
      ]
     },
     "execution_count": 82,
     "metadata": {},
     "output_type": "execute_result"
    }
   ],
   "source": [
    "link2=\"https://books.toscrape.com/catalogue/a-light-in-the-attic_1000/index.html\"\n",
    "response=requests.get(link2)\n",
    "response.status_code"
   ]
  },
  {
   "cell_type": "code",
   "execution_count": 83,
   "id": "71c76190-b003-43d6-abf2-2f3b9cc76fd1",
   "metadata": {},
   "outputs": [],
   "source": [
    "html2=response.text"
   ]
  },
  {
   "cell_type": "code",
   "execution_count": 86,
   "id": "54e642a8-9fa7-4c4b-829d-4866fc5d3e42",
   "metadata": {},
   "outputs": [],
   "source": [
    "soup2=BeautifulSoup(html2,\"html.parser\")"
   ]
  },
  {
   "cell_type": "code",
   "execution_count": 101,
   "id": "3e86da88-c5ce-4102-b52e-b6336e8717e6",
   "metadata": {},
   "outputs": [
    {
     "data": {
      "text/plain": [
       "'A Light in the Attic'"
      ]
     },
     "execution_count": 101,
     "metadata": {},
     "output_type": "execute_result"
    }
   ],
   "source": [
    "test8=soup2.find(\"h1\").get_text()\n",
    "test8"
   ]
  },
  {
   "cell_type": "markdown",
   "id": "ae0b80fc-cad0-48d0-b9f5-e98827046c1e",
   "metadata": {},
   "source": [
    "Y lo metemos al bucle que vamos formando "
   ]
  },
  {
   "cell_type": "code",
   "execution_count": 135,
   "id": "6f55583a-95cd-4747-87f4-260302eb6f84",
   "metadata": {},
   "outputs": [
    {
     "ename": "SyntaxError",
     "evalue": "incomplete input (1876740366.py, line 18)",
     "output_type": "error",
     "traceback": [
      "\u001b[0;36m  Cell \u001b[0;32mIn[135], line 18\u001b[0;36m\u001b[0m\n\u001b[0;31m    list_p_price.append(float(book_soup.find_all(\"p\")[0].get_text()[2:]\u001b[0m\n\u001b[0m                                                                       ^\u001b[0m\n\u001b[0;31mSyntaxError\u001b[0m\u001b[0;31m:\u001b[0m incomplete input\n"
     ]
    }
   ],
   "source": [
    "list_p_upc=[]\n",
    "list_p_genre=[]\n",
    "list_p_descrip=[]\n",
    "list_p_title=[]\n",
    "\n",
    "for book_url in book_links:\n",
    "    book_response = requests.get(book_url)\n",
    "    book_soup = BeautifulSoup(book_response.text, 'html.parser')\n",
    "    ## Metemos los UPC\n",
    "    list_p_upc.append(book_soup.find(\"td\").get_text())\n",
    "    ## Metemos el género\n",
    "    list_p_genre.append(book_soup.find_all(\"li\")[2].get_text())   \n",
    "    ## Metemos la descripción\n",
    "    list_p_descrip.append(book_soup.find_all(\"p\")[3].get_text())\n",
    "    ## Metemos el título\n",
    "    list_p_title.append(book_soup.find(\"h1\").get_text())"
   ]
  },
  {
   "cell_type": "markdown",
   "id": "d1ce7865-02f2-4cfc-934a-991f57c03ec6",
   "metadata": {
    "tags": []
   },
   "source": [
    "<h2 style=\"color: #008080;\">Getting all Books prices (inside each book's page)</h2>"
   ]
  },
  {
   "cell_type": "code",
   "execution_count": 82,
   "id": "d37c2c2f-c9a9-497a-9ac1-2967f18ddb3e",
   "metadata": {},
   "outputs": [
    {
     "data": {
      "text/plain": [
       "200"
      ]
     },
     "execution_count": 82,
     "metadata": {},
     "output_type": "execute_result"
    }
   ],
   "source": [
    "link2=\"https://books.toscrape.com/catalogue/a-light-in-the-attic_1000/index.html\"\n",
    "response=requests.get(link2)\n",
    "response.status_code"
   ]
  },
  {
   "cell_type": "code",
   "execution_count": 83,
   "id": "b88be445-11d9-4f2b-8911-c4dd2c4359d2",
   "metadata": {},
   "outputs": [],
   "source": [
    "html2=response.text"
   ]
  },
  {
   "cell_type": "code",
   "execution_count": 86,
   "id": "a141b582-bb48-4680-99af-e151eaf0bc71",
   "metadata": {},
   "outputs": [],
   "source": [
    "soup2=BeautifulSoup(html2,\"html.parser\")"
   ]
  },
  {
   "cell_type": "code",
   "execution_count": 133,
   "id": "f4d70643-b9fd-407a-a208-7db9836acabc",
   "metadata": {},
   "outputs": [
    {
     "data": {
      "text/plain": [
       "51.77"
      ]
     },
     "execution_count": 133,
     "metadata": {},
     "output_type": "execute_result"
    }
   ],
   "source": [
    "test9=soup2.find_all(\"p\")\n",
    "float(test9[0].get_text()[2:])"
   ]
  },
  {
   "cell_type": "code",
   "execution_count": 137,
   "id": "a8d3013c-ed96-461b-a4ba-294c762cfe46",
   "metadata": {},
   "outputs": [],
   "source": [
    "list_p_upc=[]\n",
    "list_p_genre=[]\n",
    "list_p_descrip=[]\n",
    "list_p_title=[]\n",
    "list_p_price=[]\n",
    "for book_url in book_links:\n",
    "    book_response = requests.get(book_url)\n",
    "    book_soup = BeautifulSoup(book_response.text, 'html.parser')\n",
    "    ## Metemos los UPC\n",
    "    list_p_upc.append(book_soup.find(\"td\").get_text())\n",
    "    ## Metemos el género\n",
    "    list_p_genre.append(book_soup.find_all(\"li\")[2].get_text())   \n",
    "    ## Metemos la descripción\n",
    "    list_p_descrip.append(book_soup.find_all(\"p\")[3].get_text())\n",
    "    ## Metemos el título\n",
    "    list_p_title.append(book_soup.find(\"h1\").get_text())\n",
    "    ## Metemos el precio\n",
    "    list_p_price.append(float(book_soup.find_all(\"p\")[0].get_text()[2:]))"
   ]
  },
  {
   "cell_type": "markdown",
   "id": "89de35cf-b47b-4fa7-8e6b-d8dea0348285",
   "metadata": {
    "tags": []
   },
   "source": [
    "<h2 style=\"color: #008080;\">Getting all Books ratings (inside each book's page)</h2>"
   ]
  },
  {
   "cell_type": "code",
   "execution_count": 173,
   "id": "dc097148-4687-40f4-bbd7-df2f985eee83",
   "metadata": {},
   "outputs": [
    {
     "data": {
      "text/plain": [
       "'Three'"
      ]
     },
     "execution_count": 173,
     "metadata": {},
     "output_type": "execute_result"
    }
   ],
   "source": [
    "test10=soup2.find(class_=\"star-rating\")\n",
    "test10.get(\"class\")[1]"
   ]
  },
  {
   "cell_type": "code",
   "execution_count": 228,
   "id": "f36730a4-72ff-420e-897c-ce660681ee34",
   "metadata": {},
   "outputs": [],
   "source": [
    "from word2number import w2n ## Para transformar las palabras en números en las listas de rating\n",
    "\n",
    "list_p_upc=[]\n",
    "list_p_genre=[]\n",
    "list_p_descrip=[]\n",
    "list_p_title=[]\n",
    "list_p_price=[]\n",
    "list_p_rate=[]\n",
    "for book_url in book_links:\n",
    "    book_response = requests.get(book_url)\n",
    "    book_soup = BeautifulSoup(book_response.text, 'html.parser')\n",
    "    ## Metemos los UPC\n",
    "    list_p_upc.append(book_soup.find(\"td\").get_text())\n",
    "    ## Metemos el género\n",
    "    list_p_genre.append(book_soup.find_all(\"li\")[2].get_text())   \n",
    "    ## Metemos la descripción\n",
    "    list_p_descrip.append(book_soup.find_all(\"p\")[3].get_text())\n",
    "    ## Metemos el título\n",
    "    list_p_title.append(book_soup.find(\"h1\").get_text())\n",
    "    ## Metemos el precio\n",
    "    list_p_price.append(float(book_soup.find_all(\"p\")[0].get_text()[2:]))\n",
    "    ## Metemos el rating\n",
    "    list_p_rate.append(w2n.word_to_num(book_soup.find(class_=\"star-rating\").get(\"class\")[1]))"
   ]
  },
  {
   "cell_type": "code",
   "execution_count": 229,
   "id": "1b0f931e-f078-452c-83a3-c8a72fc69361",
   "metadata": {},
   "outputs": [
    {
     "data": {
      "text/plain": [
       "[3, 1, 1, 4, 5, 1, 4, 3, 4, 1, 2, 4, 5, 5, 5, 3, 1, 1, 2, 2]"
      ]
     },
     "execution_count": 229,
     "metadata": {},
     "output_type": "execute_result"
    }
   ],
   "source": [
    "list_p_rate"
   ]
  },
  {
   "cell_type": "markdown",
   "id": "b9f2ce68-97a9-4a88-a2fb-58a34239155b",
   "metadata": {
    "tags": []
   },
   "source": [
    "<h2 style=\"color: #008080;\">Getting all Books stock (inside each book's page)</h2>"
   ]
  },
  {
   "cell_type": "code",
   "execution_count": 280,
   "id": "3cbc21f4-923f-4baa-8a4d-421689a8458d",
   "metadata": {},
   "outputs": [
    {
     "data": {
      "text/plain": [
       "22"
      ]
     },
     "execution_count": 280,
     "metadata": {},
     "output_type": "execute_result"
    }
   ],
   "source": [
    "test11=soup2.find(class_=\"instock availability\")\n",
    "int(test11.get_text()[25:-17])"
   ]
  },
  {
   "cell_type": "code",
   "execution_count": 274,
   "id": "f853618c-3033-4ab3-913c-31db5b3b2709",
   "metadata": {},
   "outputs": [],
   "source": [
    "list_p_upc=[]\n",
    "list_p_genre=[]\n",
    "list_p_descrip=[]\n",
    "list_p_title=[]\n",
    "list_p_price=[]\n",
    "list_p_rate=[]\n",
    "list_p_stock=[]\n",
    "for book_url in book_links:\n",
    "    book_response = requests.get(book_url)\n",
    "    book_soup = BeautifulSoup(book_response.text, 'html.parser')\n",
    "    ## Metemos los UPC\n",
    "    list_p_upc.append(book_soup.find(\"td\").get_text())\n",
    "    ## Metemos el género\n",
    "    list_p_genre.append(book_soup.find_all(\"li\")[2].get_text())   \n",
    "    ## Metemos la descripción\n",
    "    list_p_descrip.append(book_soup.find_all(\"p\")[3].get_text())\n",
    "    ## Metemos el título\n",
    "    list_p_title.append(book_soup.find(\"h1\").get_text())\n",
    "    ## Metemos el precio\n",
    "    list_p_price.append(float(book_soup.find_all(\"p\")[0].get_text()[2:]))\n",
    "    ## Metemos el rating\n",
    "    list_p_rate.append(w2n.word_to_num(book_soup.find(class_=\"star-rating\").get(\"class\")[1]))\n",
    "    ## Metemos el stock\n",
    "    list_p_stock.append(int(book_soup.find(class_=\"instock availability\").get_text()[25:-17]))"
   ]
  },
  {
   "cell_type": "code",
   "execution_count": null,
   "id": "cd251baf-7aaf-489c-8466-ef01c2cc6c8c",
   "metadata": {
    "scrolled": true
   },
   "outputs": [],
   "source": [
    "list_p_stock"
   ]
  },
  {
   "cell_type": "code",
   "execution_count": null,
   "id": "a35176d9-401f-422d-8f7f-3ecc99c6da5b",
   "metadata": {},
   "outputs": [],
   "source": []
  },
  {
   "cell_type": "markdown",
   "id": "9cdabf7c-06f4-4145-9280-6770e9d1cd0f",
   "metadata": {
    "tags": []
   },
   "source": [
    "<h2 style=\"color: #008080;\">Creating the last loop</h2>"
   ]
  },
  {
   "cell_type": "markdown",
   "id": "17716bc0-63bb-4317-bddb-ad364dbba5fa",
   "metadata": {},
   "source": [
    "Para iterar sobre las 49 páginas restantes, deberemos crear un loop que anide a los dos ya creados:"
   ]
  },
  {
   "cell_type": "code",
   "execution_count": 286,
   "id": "ab7bbe14-1184-4acb-9bf9-1f9b54ee8729",
   "metadata": {},
   "outputs": [
    {
     "ename": "NameError",
     "evalue": "name 'get_book_links' is not defined",
     "output_type": "error",
     "traceback": [
      "\u001b[0;31m---------------------------------------------------------------------------\u001b[0m",
      "\u001b[0;31mNameError\u001b[0m                                 Traceback (most recent call last)",
      "Cell \u001b[0;32mIn[286], line 3\u001b[0m\n\u001b[1;32m      1\u001b[0m \u001b[38;5;28;01mfor\u001b[39;00m page_num \u001b[38;5;129;01min\u001b[39;00m \u001b[38;5;28mrange\u001b[39m(\u001b[38;5;241m1\u001b[39m, \u001b[38;5;241m51\u001b[39m):  \u001b[38;5;66;03m# Asumiendo que hay 50 páginas\u001b[39;00m\n\u001b[1;32m      2\u001b[0m     page_url \u001b[38;5;241m=\u001b[39m \u001b[38;5;124m\"\u001b[39m\u001b[38;5;124mhttps://books.toscrape.com/catalogue/page-\u001b[39m\u001b[38;5;124m\"\u001b[39m\u001b[38;5;241m.\u001b[39mformat(page_num)\n\u001b[0;32m----> 3\u001b[0m     book_links \u001b[38;5;241m=\u001b[39m get_book_links(page_url)\n",
      "\u001b[0;31mNameError\u001b[0m: name 'get_book_links' is not defined"
     ]
    }
   ],
   "source": [
    "for page_num in range(1, 51):  # Asumiendo que hay 50 páginas\n",
    "    page_url = \"https://books.toscrape.com/catalogue/page-\".format(page_num)\n",
    "    book_links = get_book_links(page_url)"
   ]
  },
  {
   "cell_type": "markdown",
   "id": "6bcfa5ae-395f-47d2-b64f-5e27b8da3a0a",
   "metadata": {},
   "source": [
    "Ahora los unimos todos "
   ]
  },
  {
   "cell_type": "code",
   "execution_count": 292,
   "id": "8dd6d7d3-33c2-433b-8850-6ac72fbeeabc",
   "metadata": {},
   "outputs": [
    {
     "name": "stdout",
     "output_type": "stream",
     "text": [
      "Web scraping completado. Datos extraídos de 50 páginas.\n"
     ]
    }
   ],
   "source": [
    "import requests\n",
    "from bs4 import BeautifulSoup\n",
    "from word2number import w2n\n",
    "\n",
    "# Listas para almacenar los datos extraídos\n",
    "list_p_upc = []\n",
    "list_p_genre = []\n",
    "list_p_descrip = []\n",
    "list_p_title = []\n",
    "list_p_price = []\n",
    "list_p_rate = []\n",
    "list_p_stock = []\n",
    "\n",
    "# Base URL de la web (ajustar según el patrón de la web)\n",
    "base_url = \"http://books.toscrape.com/catalogue/page-{}.html\"\n",
    "\n",
    "# Función para obtener enlaces de libros de una página dada\n",
    "def get_book_links(page_url):\n",
    "    response = requests.get(page_url)\n",
    "    soup = BeautifulSoup(response.text, 'html.parser')\n",
    "    book_tags = soup.find_all(\"h3\")\n",
    "    book_links = [\"http://books.toscrape.com/catalogue/\" + a_tag.find(\"a\")[\"href\"] for a_tag in book_tags]\n",
    "    return book_links\n",
    "\n",
    "# Iterar sobre las 50 páginas de la web\n",
    "for page_num in range(1, 51):  # Asumiendo que hay 50 páginas\n",
    "    page_url = base_url.format(page_num)\n",
    "    book_links = get_book_links(page_url)\n",
    "    \n",
    "    # Iterar sobre cada enlace de libro en la página actual\n",
    "    for book_url in book_links:\n",
    "        book_response = requests.get(book_url)\n",
    "        book_soup = BeautifulSoup(book_response.text, 'html.parser')\n",
    "        ## Metemos los UPC\n",
    "        list_p_upc.append(book_soup.find(\"td\").get_text())\n",
    "        ## Metemos el género\n",
    "        list_p_genre.append(book_soup.find_all(\"li\")[2].get_text())   \n",
    "        ## Metemos la descripción\n",
    "        list_p_descrip.append(book_soup.find_all(\"p\")[3].get_text())\n",
    "        ## Metemos el título\n",
    "        list_p_title.append(book_soup.find(\"h1\").get_text())\n",
    "        ## Metemos el precio\n",
    "        list_p_price.append(float(book_soup.find_all(\"p\")[0].get_text()[2:]))\n",
    "        ## Metemos el rating\n",
    "        list_p_rate.append(w2n.word_to_num(book_soup.find(class_=\"star-rating\").get(\"class\")[1]))\n",
    "        ## Metemos el stock\n",
    "        list_p_stock.append(int(book_soup.find(class_=\"instock availability\").get_text()[25:-17]))\n",
    "\n",
    "print(\"Web scraping completado. Datos extraídos de 50 páginas.\")"
   ]
  },
  {
   "cell_type": "code",
   "execution_count": 306,
   "id": "dc78faea-1bed-44d7-9392-c3fd26efbc6a",
   "metadata": {},
   "outputs": [],
   "source": [
    "diccionario_sin_filtro={\"title\":list_p_title,\n",
    "                        \"price\":list_p_price,\n",
    "                        \"rate\":list_p_rate,\n",
    "                        \"stock\":list_p_stock,\n",
    "                        \"upc\":list_p_upc,\n",
    "                        \"genre\":list_p_genre,\n",
    "                        \"descrip\":list_p_descrip\n",
    "                       }\n",
    "diccionario_sin_filtro=pd.DataFrame(diccionario_sin_filtro)"
   ]
  },
  {
   "cell_type": "code",
   "execution_count": 308,
   "id": "c5481061-0d48-4b6f-a60e-d034025b2f03",
   "metadata": {},
   "outputs": [
    {
     "data": {
      "text/html": [
       "<div>\n",
       "<style scoped>\n",
       "    .dataframe tbody tr th:only-of-type {\n",
       "        vertical-align: middle;\n",
       "    }\n",
       "\n",
       "    .dataframe tbody tr th {\n",
       "        vertical-align: top;\n",
       "    }\n",
       "\n",
       "    .dataframe thead th {\n",
       "        text-align: right;\n",
       "    }\n",
       "</style>\n",
       "<table border=\"1\" class=\"dataframe\">\n",
       "  <thead>\n",
       "    <tr style=\"text-align: right;\">\n",
       "      <th></th>\n",
       "      <th>title</th>\n",
       "      <th>price</th>\n",
       "      <th>rate</th>\n",
       "      <th>stock</th>\n",
       "      <th>upc</th>\n",
       "      <th>genre</th>\n",
       "      <th>descrip</th>\n",
       "    </tr>\n",
       "  </thead>\n",
       "  <tbody>\n",
       "    <tr>\n",
       "      <th>0</th>\n",
       "      <td>A Light in the Attic</td>\n",
       "      <td>51.77</td>\n",
       "      <td>3</td>\n",
       "      <td>22</td>\n",
       "      <td>a897fe39b1053632</td>\n",
       "      <td>\\nPoetry\\n</td>\n",
       "      <td>It's hard to imagine a world without A Light i...</td>\n",
       "    </tr>\n",
       "    <tr>\n",
       "      <th>1</th>\n",
       "      <td>Tipping the Velvet</td>\n",
       "      <td>53.74</td>\n",
       "      <td>1</td>\n",
       "      <td>20</td>\n",
       "      <td>90fa61229261140a</td>\n",
       "      <td>\\nHistorical Fiction\\n</td>\n",
       "      <td>\"Erotic and absorbing...Written with starling ...</td>\n",
       "    </tr>\n",
       "    <tr>\n",
       "      <th>2</th>\n",
       "      <td>Soumission</td>\n",
       "      <td>50.10</td>\n",
       "      <td>1</td>\n",
       "      <td>20</td>\n",
       "      <td>6957f44c3847a760</td>\n",
       "      <td>\\nFiction\\n</td>\n",
       "      <td>Dans une France assez proche de la nÃ´tre, un ...</td>\n",
       "    </tr>\n",
       "    <tr>\n",
       "      <th>3</th>\n",
       "      <td>Sharp Objects</td>\n",
       "      <td>47.82</td>\n",
       "      <td>4</td>\n",
       "      <td>20</td>\n",
       "      <td>e00eb4fd7b871a48</td>\n",
       "      <td>\\nMystery\\n</td>\n",
       "      <td>WICKED above her hipbone, GIRL across her hear...</td>\n",
       "    </tr>\n",
       "    <tr>\n",
       "      <th>4</th>\n",
       "      <td>Sapiens: A Brief History of Humankind</td>\n",
       "      <td>54.23</td>\n",
       "      <td>5</td>\n",
       "      <td>20</td>\n",
       "      <td>4165285e1663650f</td>\n",
       "      <td>\\nHistory\\n</td>\n",
       "      <td>From a renowned historian comes a groundbreaki...</td>\n",
       "    </tr>\n",
       "    <tr>\n",
       "      <th>...</th>\n",
       "      <td>...</td>\n",
       "      <td>...</td>\n",
       "      <td>...</td>\n",
       "      <td>...</td>\n",
       "      <td>...</td>\n",
       "      <td>...</td>\n",
       "      <td>...</td>\n",
       "    </tr>\n",
       "    <tr>\n",
       "      <th>995</th>\n",
       "      <td>Alice in Wonderland (Alice's Adventures in Won...</td>\n",
       "      <td>55.53</td>\n",
       "      <td>1</td>\n",
       "      <td>1</td>\n",
       "      <td>cd2a2a70dd5d176d</td>\n",
       "      <td>\\nClassics\\n</td>\n",
       "      <td>\\n\\n\\n\\n\\n\\n</td>\n",
       "    </tr>\n",
       "    <tr>\n",
       "      <th>996</th>\n",
       "      <td>Ajin: Demi-Human, Volume 1 (Ajin: Demi-Human #1)</td>\n",
       "      <td>57.06</td>\n",
       "      <td>4</td>\n",
       "      <td>1</td>\n",
       "      <td>bfd5e1701c862ac3</td>\n",
       "      <td>\\nSequential Art\\n</td>\n",
       "      <td>High school student Kei Nagai is struck dead i...</td>\n",
       "    </tr>\n",
       "    <tr>\n",
       "      <th>997</th>\n",
       "      <td>A Spy's Devotion (The Regency Spies of London #1)</td>\n",
       "      <td>16.97</td>\n",
       "      <td>5</td>\n",
       "      <td>1</td>\n",
       "      <td>19fec36a1dfb4c16</td>\n",
       "      <td>\\nHistorical Fiction\\n</td>\n",
       "      <td>In Englandâs Regency era, manners and elegan...</td>\n",
       "    </tr>\n",
       "    <tr>\n",
       "      <th>998</th>\n",
       "      <td>1st to Die (Women's Murder Club #1)</td>\n",
       "      <td>53.98</td>\n",
       "      <td>1</td>\n",
       "      <td>1</td>\n",
       "      <td>f684a82adc49f011</td>\n",
       "      <td>\\nMystery\\n</td>\n",
       "      <td>James Patterson, bestselling author of the Ale...</td>\n",
       "    </tr>\n",
       "    <tr>\n",
       "      <th>999</th>\n",
       "      <td>1,000 Places to See Before You Die</td>\n",
       "      <td>26.08</td>\n",
       "      <td>5</td>\n",
       "      <td>1</td>\n",
       "      <td>228ba5e7577e1d49</td>\n",
       "      <td>\\nTravel\\n</td>\n",
       "      <td>Around the World, continent by continent, here...</td>\n",
       "    </tr>\n",
       "  </tbody>\n",
       "</table>\n",
       "<p>1000 rows × 7 columns</p>\n",
       "</div>"
      ],
      "text/plain": [
       "                                                 title  price  rate  stock  \\\n",
       "0                                 A Light in the Attic  51.77     3     22   \n",
       "1                                   Tipping the Velvet  53.74     1     20   \n",
       "2                                           Soumission  50.10     1     20   \n",
       "3                                        Sharp Objects  47.82     4     20   \n",
       "4                Sapiens: A Brief History of Humankind  54.23     5     20   \n",
       "..                                                 ...    ...   ...    ...   \n",
       "995  Alice in Wonderland (Alice's Adventures in Won...  55.53     1      1   \n",
       "996   Ajin: Demi-Human, Volume 1 (Ajin: Demi-Human #1)  57.06     4      1   \n",
       "997  A Spy's Devotion (The Regency Spies of London #1)  16.97     5      1   \n",
       "998                1st to Die (Women's Murder Club #1)  53.98     1      1   \n",
       "999                 1,000 Places to See Before You Die  26.08     5      1   \n",
       "\n",
       "                  upc                   genre  \\\n",
       "0    a897fe39b1053632              \\nPoetry\\n   \n",
       "1    90fa61229261140a  \\nHistorical Fiction\\n   \n",
       "2    6957f44c3847a760             \\nFiction\\n   \n",
       "3    e00eb4fd7b871a48             \\nMystery\\n   \n",
       "4    4165285e1663650f             \\nHistory\\n   \n",
       "..                ...                     ...   \n",
       "995  cd2a2a70dd5d176d            \\nClassics\\n   \n",
       "996  bfd5e1701c862ac3      \\nSequential Art\\n   \n",
       "997  19fec36a1dfb4c16  \\nHistorical Fiction\\n   \n",
       "998  f684a82adc49f011             \\nMystery\\n   \n",
       "999  228ba5e7577e1d49              \\nTravel\\n   \n",
       "\n",
       "                                               descrip  \n",
       "0    It's hard to imagine a world without A Light i...  \n",
       "1    \"Erotic and absorbing...Written with starling ...  \n",
       "2    Dans une France assez proche de la nÃ´tre, un ...  \n",
       "3    WICKED above her hipbone, GIRL across her hear...  \n",
       "4    From a renowned historian comes a groundbreaki...  \n",
       "..                                                 ...  \n",
       "995                                       \\n\\n\\n\\n\\n\\n  \n",
       "996  High school student Kei Nagai is struck dead i...  \n",
       "997  In Englandâs Regency era, manners and elegan...  \n",
       "998  James Patterson, bestselling author of the Ale...  \n",
       "999  Around the World, continent by continent, here...  \n",
       "\n",
       "[1000 rows x 7 columns]"
      ]
     },
     "execution_count": 308,
     "metadata": {},
     "output_type": "execute_result"
    }
   ],
   "source": [
    "diccionario_sin_filtro"
   ]
  },
  {
   "cell_type": "code",
   "execution_count": 310,
   "id": "056bb1fa-bdd0-4f8f-a559-0b5df633eb78",
   "metadata": {},
   "outputs": [],
   "source": [
    "diccionario_sin_filtro.to_csv(\"full_dataframe.csv\")"
   ]
  },
  {
   "cell_type": "markdown",
   "id": "b4b43d8d-b54b-4553-ab40-0cd7c9918191",
   "metadata": {
    "tags": []
   },
   "source": [
    "<h2 style=\"color: #008080;\">Filtering books</h2>"
   ]
  },
  {
   "cell_type": "markdown",
   "id": "7cbe9f62-60a0-4ae0-b836-55ca2268ff90",
   "metadata": {},
   "source": [
    "**Expected Outcome**\n",
    "\n",
    "A function named `scrape_books` that takes two parameters: `min_rating` and `max_price`. The function should scrape book data from the \"Books to Scrape\" website and return a `pandas` DataFrame with the following columns:\n"
   ]
  },
  {
   "cell_type": "markdown",
   "id": "9b8283ef-01de-4d9b-bc45-4e054ddcd12a",
   "metadata": {},
   "source": [
    "You will execute this script to scrape data for books with a minimum rating of `4.0 and above` and a maximum price of `£20`. "
   ]
  },
  {
   "cell_type": "code",
   "execution_count": 327,
   "id": "938ab4f8-920b-4c4c-a220-df027ebd82b7",
   "metadata": {},
   "outputs": [],
   "source": [
    "import requests\n",
    "from bs4 import BeautifulSoup\n",
    "from word2number import w2n\n",
    "\n",
    "def scrape_books(min_rating,max_price):\n",
    "    # Listas para almacenar los datos extraídos\n",
    "    list_p_upc = []\n",
    "    list_p_genre = []\n",
    "    list_p_descrip = []\n",
    "    list_p_title = []\n",
    "    list_p_price = []\n",
    "    list_p_rate = []\n",
    "    list_p_stock = []\n",
    "    \n",
    "    # Base URL de la web (ajustar según el patrón de la web)\n",
    "    base_url = \"http://books.toscrape.com/catalogue/page-{}.html\"\n",
    "    \n",
    "    # Función para obtener enlaces de libros de una página dada\n",
    "    def get_book_links(page_url):\n",
    "        response = requests.get(page_url)\n",
    "        soup = BeautifulSoup(response.text, 'html.parser')\n",
    "        book_tags = soup.find_all(\"h3\")\n",
    "        book_links = [\"http://books.toscrape.com/catalogue/\" + a_tag.find(\"a\")[\"href\"] for a_tag in book_tags]\n",
    "        return book_links\n",
    "    \n",
    "    # Iterar sobre las 50 páginas de la web\n",
    "    for page_num in range(1, 51):  # Asumiendo que hay 50 páginas\n",
    "        page_url = base_url.format(page_num)\n",
    "        book_links = get_book_links(page_url)\n",
    "        \n",
    "        # Iterar sobre cada enlace de libro en la página actual\n",
    "        for book_url in book_links:\n",
    "            book_response = requests.get(book_url)\n",
    "            book_soup = BeautifulSoup(book_response.text, 'html.parser')\n",
    "            ## Metemos los UPC\n",
    "            list_p_upc.append(book_soup.find(\"td\").get_text())\n",
    "            ## Metemos el género\n",
    "            list_p_genre.append(book_soup.find_all(\"li\")[2].get_text())   \n",
    "            ## Metemos la descripción\n",
    "            list_p_descrip.append(book_soup.find_all(\"p\")[3].get_text())\n",
    "            ## Metemos el título\n",
    "            list_p_title.append(book_soup.find(\"h1\").get_text())\n",
    "            ## Metemos el precio\n",
    "            list_p_price.append(float(book_soup.find_all(\"p\")[0].get_text()[2:]))\n",
    "            ## Metemos el rating\n",
    "            list_p_rate.append(w2n.word_to_num(book_soup.find(class_=\"star-rating\").get(\"class\")[1]))\n",
    "            ## Metemos el stock\n",
    "            list_p_stock.append(int(book_soup.find(class_=\"instock availability\").get_text()[25:-17]))\n",
    "    \n",
    "    print(\"Web scraping completado. Datos extraídos de 50 páginas.\")\n",
    "    \n",
    "    diccionario_sin_filtro={\"title\":list_p_title,\n",
    "                            \"price\":list_p_price,\n",
    "                            \"rate\":list_p_rate,\n",
    "                            \"stock\":list_p_stock,\n",
    "                            \"upc\":list_p_upc,\n",
    "                            \"genre\":list_p_genre,\n",
    "                            \"descrip\":list_p_descrip\n",
    "                           }\n",
    "    diccionario_sin_filtro=pd.DataFrame(diccionario_sin_filtro)\n",
    "    \n",
    "    diccionario_sin_filtro.to_csv(\"full_dataframe.csv\")\n",
    "    \n",
    "    diccionario_filtrado=diccionario_sin_filtro[(diccionario_sin_filtro[\"rate\"]>min_rating)&(diccionario_sin_filtro[\"price\"]<max_price)]\n",
    "\n",
    "    diccionario_filtrado.to_csv(\"filtered_dataframe.csv\")\n",
    "\n",
    "    return diccionario_filtrado"
   ]
  },
  {
   "cell_type": "code",
   "execution_count": null,
   "id": "44558911-0d7a-4eda-8c15-e86c4d80b7d7",
   "metadata": {},
   "outputs": [],
   "source": [
    "scrape_books(4,20)"
   ]
  }
 ],
 "metadata": {
  "colab": {
   "provenance": []
  },
  "kernelspec": {
   "display_name": "Python 3 (ipykernel)",
   "language": "python",
   "name": "python3"
  },
  "language_info": {
   "codemirror_mode": {
    "name": "ipython",
    "version": 3
   },
   "file_extension": ".py",
   "mimetype": "text/x-python",
   "name": "python",
   "nbconvert_exporter": "python",
   "pygments_lexer": "ipython3",
   "version": "3.12.4"
  }
 },
 "nbformat": 4,
 "nbformat_minor": 5
}
